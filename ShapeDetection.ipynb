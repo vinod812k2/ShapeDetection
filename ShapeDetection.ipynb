{
  "nbformat": 4,
  "nbformat_minor": 0,
  "metadata": {
    "colab": {
      "name": "ShapeDetection.ipynb",
      "provenance": [],
      "collapsed_sections": []
    },
    "kernelspec": {
      "name": "python3",
      "display_name": "Python 3"
    }
  },
  "cells": [
    {
      "cell_type": "code",
      "metadata": {
        "id": "pLUgypl4l8KI",
        "colab_type": "code",
        "colab": {}
      },
      "source": [
        "import argparse\n",
        "import imutils\n",
        "import cv2\n",
        "from google.colab.patches import cv2_imshow\n"
      ],
      "execution_count": 0,
      "outputs": []
    },
    {
      "cell_type": "code",
      "metadata": {
        "id": "e8fUoj8EqVWG",
        "colab_type": "code",
        "outputId": "6395c8b1-ddab-4210-a0a2-93102588a9f6",
        "colab": {
          "base_uri": "https://localhost:8080/",
          "height": 364
        }
      },
      "source": [
        "image = cv2.imread(\"/content/drive/My Drive/Data/shape.png\")\n",
        "cv2_imshow(image)"
      ],
      "execution_count": 0,
      "outputs": [
        {
          "output_type": "display_data",
          "data": {
            "image/png": "[encoded data removed]",
            "text/plain": [
              "<PIL.Image.Image image mode=RGB size=482x347 at 0x7FD156FB04E0>"
            ]
          },
          "metadata": {
            "tags": []
          }
        }
      ]
    },
    {
      "cell_type": "code",
      "metadata": {
        "id": "yQUi1yB3tibz",
        "colab_type": "code",
        "outputId": "16ab7015-6e26-4c99-dac6-3adcd57a6d2f",
        "colab": {
          "base_uri": "https://localhost:8080/",
          "height": 364
        }
      },
      "source": [
        "imgGray=cv2.cvtColor(image,cv2.COLOR_BGR2GRAY)\n",
        "cv2_imshow(imgGray)"
      ],
      "execution_count": 0,
      "outputs": [
        {
          "output_type": "display_data",
          "data": {
            "image/png": "[encoded data removed]",
            "text/plain": [
              "<PIL.Image.Image image mode=L size=482x347 at 0x7FD156FB0470>"
            ]
          },
          "metadata": {
            "tags": []
          }
        }
      ]
    },
    {
      "cell_type": "code",
      "metadata": {
        "id": "X7B1Nhm9ti1i",
        "colab_type": "code",
        "colab": {}
      },
      "source": [
        "_, thrash=cv2.threshold(imgGray, 240, 255, cv2.THRESH_BINARY)\n",
        "_,contours,h= cv2.findContours(thrash, cv2.RETR_TREE, cv2.CHAIN_APPROX_NONE)\n",
        "\n",
        "for contour in contours:\n",
        "  approx=cv2.approxPolyDP(contour, 0.01*cv2.arcLength(contour,True), True)\n",
        "  cv2.drawContours(image, [approx],0,(0,0,0),5)\n",
        "  x=approx.ravel()[0]\n",
        "  y=approx.ravel()[1]-20\n",
        "  if len(approx)==3:\n",
        "    cv2.putText(image, \"Triangle\",(x,y), cv2.FONT_HERSHEY_COMPLEX, 0.5, (0,0,0))\n",
        "  elif len(approx)==4:\n",
        "    x,y,w,h=cv2.boundingRect(approx)\n",
        "    aspectRatio=float(w)/h\n",
        "    if aspectRatio>=0.50 and aspectRatio<=2.05:\n",
        "      cv2.putText(image, \"Square\",(x,y), cv2.FONT_HERSHEY_COMPLEX, 0.5, (0,0,0))\n",
        "    else:\n",
        "      cv2.putText(image, \"Rectangle\",(x,y), cv2.FONT_HERSHEY_COMPLEX, 0.5, (0,0,0))\n",
        "  elif len(approx)==5:\n",
        "    cv2.putText(image, \"Pentagon\",(x,y), cv2.FONT_HERSHEY_COMPLEX, 0.5, (0,0,0))\n",
        "  elif len(approx)==10:\n",
        "    cv2.putText(image, \"Star\",(x,y), cv2.FONT_HERSHEY_COMPLEX, 0.5, (0,0,0))\n",
        "  else:\n",
        "    cv2.putText(image, \"Circle\",(x,y), cv2.FONT_HERSHEY_COMPLEX, 0.5, (0,0,0))"
      ],
      "execution_count": 0,
      "outputs": []
    },
    {
      "cell_type": "code",
      "metadata": {
        "id": "1HjuKUHhpI0Z",
        "colab_type": "code",
        "outputId": "dadf3cdf-b1e6-4295-8aef-b7748fa23cdf",
        "colab": {
          "base_uri": "https://localhost:8080/",
          "height": 364
        }
      },
      "source": [
        "cv2_imshow(image)"
      ],
      "execution_count": 0,
      "outputs": [
        {
          "output_type": "display_data",
          "data": {
            "image/png": "[encoded data removed]",
            "text/plain": [
              "<PIL.Image.Image image mode=RGB size=482x347 at 0x7FD156F7DC18>"
            ]
          },
          "metadata": {
            "tags": []
          }
        }
      ]
    }
  ]
}